{
  "nbformat": 4,
  "nbformat_minor": 0,
  "metadata": {
    "colab": {
      "provenance": [],
      "authorship_tag": "ABX9TyNGDXMsDHwqGrY+3w8Nf682",
      "include_colab_link": true
    },
    "kernelspec": {
      "name": "python3",
      "display_name": "Python 3"
    },
    "language_info": {
      "name": "python"
    }
  },
  "cells": [
    {
      "cell_type": "markdown",
      "metadata": {
        "id": "view-in-github",
        "colab_type": "text"
      },
      "source": [
        "<a href=\"https://colab.research.google.com/github/Francis-Mwaniki/fashion-model-predictor/blob/main/fashion_model.ipynb\" target=\"_parent\"><img src=\"https://colab.research.google.com/assets/colab-badge.svg\" alt=\"Open In Colab\"/></a>"
      ]
    },
    {
      "cell_type": "code",
      "source": [
        "import pandas as pd\n",
        "from sklearn.model_selection import train_test_split\n",
        "from sklearn.tree import DecisionTreeClassifier\n",
        "from sklearn.preprocessing import LabelEncoder\n",
        "\n",
        "# Load data from CSV\n",
        "data = pd.read_csv('data.csv')\n",
        "\n",
        "# Encode categorical features\n",
        "label_encoder_item = LabelEncoder()\n",
        "label_encoder_color = LabelEncoder()\n",
        "label_encoder_style = LabelEncoder()\n",
        "label_encoder_gender = LabelEncoder()\n",
        "\n",
        "data['Item'] = label_encoder_item.fit_transform(data['Item'])\n",
        "data['Color'] = label_encoder_color.fit_transform(data['Color'])\n",
        "data['Style'] = label_encoder_style.fit_transform(data['Style'])\n",
        "data['Gender'] = label_encoder_gender.fit_transform(data['Gender'])\n",
        "\n",
        "# Separate features and target variable\n",
        "X = data[['Color', 'Style', 'Gender', 'Height']]\n",
        "y = data['Item']\n",
        "\n",
        "# Split data into training and testing sets\n",
        "X_train, X_test, y_train, y_test = train_test_split(X, y, test_size=0.2, random_state=42)\n",
        "\n",
        "# Train Decision Tree Classifier\n",
        "model = DecisionTreeClassifier()\n",
        "model.fit(X_train, y_train)\n",
        "\n",
        "# Function to suggest the best fashion item based on user inputs\n",
        "def suggest_fashion_item():\n",
        "    print(\"Enter your preferences:\")\n",
        "    height = float(input(\"Height (in cm): \"))\n",
        "    gender = input(\"Gender (M/F): \")\n",
        "    color = input(\"Color: \")\n",
        "    style = input(\"Style (Casual/Formal/Sporty): \")\n",
        "\n",
        "    input_data = {\n",
        "        'Color': [label_encoder_color.transform([color])[0]],\n",
        "        'Style': [label_encoder_style.transform([style])[0]],\n",
        "        'Gender': [label_encoder_gender.transform([gender])[0]],\n",
        "        'Height': [height],\n",
        "    }\n",
        "\n",
        "    input_df = pd.DataFrame(input_data)\n",
        "\n",
        "    # Predict the best fashion item using the trained model\n",
        "    item_prediction = label_encoder_item.inverse_transform(model.predict(input_df))\n",
        "    return item_prediction[0]\n",
        "\n",
        "# Example usage\n",
        "predicted_item = suggest_fashion_item()\n",
        "print(f\"Suggested Fashion Item: {predicted_item}\")\n"
      ],
      "metadata": {
        "colab": {
          "base_uri": "https://localhost:8080/"
        },
        "id": "g0ZjDmFQGWgK",
        "outputId": "ee7b61de-d1be-4af3-9bd6-bf2b241be82d"
      },
      "execution_count": 4,
      "outputs": [
        {
          "output_type": "stream",
          "name": "stdout",
          "text": [
            "Enter your preferences:\n",
            "Height (in cm): 20\n",
            "Gender (M/F): M\n",
            "Color: White\n",
            "Style (Casual/Formal/Sporty): Sporty\n",
            "Suggested Fashion Item: Skirt\n"
          ]
        }
      ]
    },
    {
      "cell_type": "code",
      "source": [
        "import pandas as pd\n",
        "from sklearn.model_selection import train_test_split\n",
        "from sklearn.tree import DecisionTreeClassifier\n",
        "from sklearn.preprocessing import LabelEncoder\n",
        "\n",
        "# Load data from CSV\n",
        "data = pd.read_csv('data.csv')\n",
        "\n",
        "# Encode categorical features\n",
        "label_encoder_item = LabelEncoder()\n",
        "label_encoder_color = LabelEncoder()\n",
        "label_encoder_style = LabelEncoder()\n",
        "label_encoder_gender = LabelEncoder()\n",
        "\n",
        "data['Item'] = label_encoder_item.fit_transform(data['Item'])\n",
        "data['Color'] = label_encoder_color.fit_transform(data['Color'])\n",
        "data['Style'] = label_encoder_style.fit_transform(data['Style'])\n",
        "data['Gender'] = label_encoder_gender.fit_transform(data['Gender'])\n",
        "\n",
        "# Separate features and target variable\n",
        "X = data[['Color', 'Style', 'Gender', 'Height']]\n",
        "y = data['Item']\n",
        "\n",
        "# Split data into training and testing sets\n",
        "X_train, X_test, y_train, y_test = train_test_split(X, y, test_size=0.2, random_state=42)\n",
        "\n",
        "# Train Decision Tree Classifier\n",
        "model = DecisionTreeClassifier()\n",
        "model.fit(X_train, y_train)\n",
        "\n",
        "# Function to suggest the best fashion item based on user inputs\n",
        "def suggest_fashion_item():\n",
        "    print(\"Enter your preferences:\")\n",
        "    height = float(input(\"Height (in cm): \"))\n",
        "    gender = input(\"Gender (M/F): \")\n",
        "    color = input(\"Color: \")\n",
        "    style = input(\"Style (Casual/Formal/Sporty): \")\n",
        "\n",
        "    # Filter out items based on gender\n",
        "    gender_filtered_data = data[data['Gender'] == label_encoder_gender.transform([gender])[0]]\n",
        "\n",
        "    input_data = {\n",
        "        'Color': [label_encoder_color.transform([color])[0]],\n",
        "        'Style': [label_encoder_style.transform([style])[0]],\n",
        "        'Gender': [label_encoder_gender.transform([gender])[0]],\n",
        "        'Height': [height],\n",
        "    }\n",
        "\n",
        "    input_df = pd.DataFrame(input_data)\n",
        "\n",
        "    # Predict the best fashion item using the trained model\n",
        "    valid_items = gender_filtered_data['Item'].unique()\n",
        "    item_prediction = label_encoder_item.inverse_transform(model.predict(input_df))\n",
        "\n",
        "    if item_prediction[0] not in valid_items:\n",
        "        print(f\"Warning: The suggested item may not be suitable for the selected gender.\")\n",
        "\n",
        "    return item_prediction[0]\n",
        "\n",
        "# Example usage\n",
        "predicted_item = suggest_fashion_item()\n",
        "print(f\"Suggested Fashion Item: {predicted_item}\")\n"
      ],
      "metadata": {
        "colab": {
          "base_uri": "https://localhost:8080/"
        },
        "id": "e1_onUkDG1p7",
        "outputId": "7b0d98be-aded-4b1e-866c-386f173e239f"
      },
      "execution_count": 8,
      "outputs": [
        {
          "output_type": "stream",
          "name": "stdout",
          "text": [
            "Enter your preferences:\n",
            "Height (in cm): 170\n",
            "Gender (M/F): M\n",
            "Color: Blue\n",
            "Style (Casual/Formal/Sporty): Formal\n",
            "Warning: The suggested item may not be suitable for the selected gender.\n",
            "Suggested Fashion Item: Dress\n"
          ]
        }
      ]
    },
    {
      "cell_type": "code",
      "source": [
        "import pandas as pd\n",
        "from sklearn.model_selection import train_test_split\n",
        "from sklearn.tree import DecisionTreeClassifier\n",
        "from sklearn.preprocessing import LabelEncoder\n",
        "\n",
        "# Load data from CSV\n",
        "data = pd.read_csv('data.csv')\n",
        "\n",
        "# Encode categorical features\n",
        "label_encoder_item = LabelEncoder()\n",
        "label_encoder_color = LabelEncoder()\n",
        "label_encoder_style = LabelEncoder()\n",
        "label_encoder_gender = LabelEncoder()\n",
        "\n",
        "data['Item'] = label_encoder_item.fit_transform(data['Item'])\n",
        "data['Color'] = label_encoder_color.fit_transform(data['Color'])\n",
        "data['Style'] = label_encoder_style.fit_transform(data['Style'])\n",
        "data['Gender'] = label_encoder_gender.fit_transform(data['Gender'])\n",
        "\n",
        "# Separate features and target variable\n",
        "X = data[['Color', 'Style', 'Gender', 'Height']]\n",
        "y = data['Item']\n",
        "\n",
        "# Split data into training and testing sets\n",
        "X_train, X_test, y_train, y_test = train_test_split(X, y, test_size=0.2, random_state=42)\n",
        "\n",
        "# Train Decision Tree Classifier\n",
        "model = DecisionTreeClassifier()\n",
        "model.fit(X_train, y_train)\n",
        "\n",
        "# Function to suggest the best fashion item based on user inputs\n",
        "def suggest_fashion_item():\n",
        "    print(\"Enter your preferences:\")\n",
        "    height = float(input(\"Height (in cm): \"))\n",
        "    gender = input(\"Gender (M/F): \")\n",
        "    color = input(\"Color: \")\n",
        "    style = input(\"Style (Casual/Formal/Sporty): \")\n",
        "\n",
        "    # Filter out items based on gender\n",
        "    gender_filtered_data = data[data['Gender'] == label_encoder_gender.transform([gender])[0]]\n",
        "\n",
        "    input_data = {\n",
        "        'Color': [label_encoder_color.transform([color])[0]],\n",
        "        'Style': [label_encoder_style.transform([style])[0]],\n",
        "        'Gender': [label_encoder_gender.transform([gender])[0]],\n",
        "        'Height': [height],\n",
        "    }\n",
        "\n",
        "    input_df = pd.DataFrame(input_data)\n",
        "\n",
        "    # Predict the best fashion item using the trained model\n",
        "    valid_items = gender_filtered_data['Item'].unique()\n",
        "    predictions = model.predict(input_df)\n",
        "    valid_predictions = [item for item in predictions if item in valid_items]\n",
        "\n",
        "    if not valid_predictions:\n",
        "        print(\"No suitable item found based on the given preferences.\")\n",
        "        return None\n",
        "\n",
        "    suggested_item = label_encoder_item.inverse_transform(valid_predictions)[0]\n",
        "    return suggested_item\n",
        "\n",
        "# Example usage\n",
        "predicted_item = suggest_fashion_item()\n",
        "\n",
        "if predicted_item is not None:\n",
        "    print(f\"Suggested Fashion Item: {predicted_item}\")\n"
      ],
      "metadata": {
        "colab": {
          "base_uri": "https://localhost:8080/"
        },
        "id": "6HajjuplHyf2",
        "outputId": "4201129a-b097-4964-dbdf-9239b63c6166"
      },
      "execution_count": 20,
      "outputs": [
        {
          "output_type": "stream",
          "name": "stdout",
          "text": [
            "Enter your preferences:\n",
            "Height (in cm): 170\n",
            "Gender (M/F): M\n",
            "Color: Blue\n",
            "Style (Casual/Formal/Sporty): Sporty\n",
            "Suggested Fashion Item: Jeans\n"
          ]
        }
      ]
    },
    {
      "cell_type": "code",
      "source": [
        "import csv\n",
        "import random\n",
        "\n",
        "# Define data options\n",
        "male_items = ['T-shirt', 'Jeans', 'Jacket', 'Sneakers', 'Shorts']\n",
        "female_items = ['Blouse', 'Jeans', 'Dress', 'Sneakers', 'T-shirt', 'Skirt', 'Jacket', 'Sandals', 'Sweater', 'Shorts']\n",
        "common_items = ['T-shirt', 'Jeans', 'Jacket', 'Sneakers', 'Shorts']\n",
        "\n",
        "colors = ['Blue', 'Black', 'Red', 'White', 'Green', 'Pink', 'Gray', 'Brown', 'Yellow', 'Purple']\n",
        "styles = ['Casual', 'Formal', 'Sporty']\n",
        "\n",
        "# Open the CSV file in write mode\n",
        "with open('data.csv', 'w', newline='') as csvfile:\n",
        "    # Create a CSV writer object\n",
        "    writer = csv.writer(csvfile)\n",
        "\n",
        "    # Write the header row\n",
        "    writer.writerow(['Item', 'Color', 'Style', 'Gender', 'Height', 'Rating'])\n",
        "\n",
        "    # Generate and write 3000 rows of data\n",
        "    for _ in range(3000):\n",
        "        if random.choice([True, False]):  # Randomly choose gender\n",
        "            item = random.choice(male_items)\n",
        "            gender = 'M'\n",
        "        else:\n",
        "            item = random.choice(female_items)\n",
        "            gender = 'F'\n",
        "\n",
        "        color = random.choice(colors)\n",
        "\n",
        "        # Align style with items\n",
        "        if item in common_items:\n",
        "            style = random.choice(styles)\n",
        "        elif item == 'Dress' and gender == 'F':\n",
        "            style = 'Formal'\n",
        "        else:\n",
        "            style = 'Casual' if item == 'Sneakers' else 'Sporty'\n",
        "\n",
        "        height = random.randint(150, 200)  # Random height between 150 and 200 cm\n",
        "        rating = round(random.uniform(3.0, 5.0), 2)\n",
        "\n",
        "        # Write the row\n",
        "        writer.writerow([item, color, style, gender, height, rating])\n",
        "\n",
        "print(\"CSV file created successfully!\")\n"
      ],
      "metadata": {
        "colab": {
          "base_uri": "https://localhost:8080/"
        },
        "id": "dJ6c8j2SJTgg",
        "outputId": "5eff0cbc-6124-4c4d-cb8c-5cb1cf8ac5c0"
      },
      "execution_count": 22,
      "outputs": [
        {
          "output_type": "stream",
          "name": "stdout",
          "text": [
            "CSV file created successfully!\n"
          ]
        }
      ]
    },
    {
      "cell_type": "code",
      "source": [
        "import pandas as pd\n",
        "from sklearn.model_selection import train_test_split\n",
        "from sklearn.preprocessing import OneHotEncoder\n",
        "from sklearn.tree import DecisionTreeClassifier\n",
        "\n",
        "# Read the data from the CSV file\n",
        "data = pd.read_csv('data.csv')\n",
        "\n",
        "# Separate features and target variable\n",
        "X = data[['Height', 'Gender', 'Color', 'Style']]\n",
        "y = data['Item']\n",
        "\n",
        "# One-hot encode categorical features\n",
        "encoder = OneHotEncoder(drop='first', sparse=False)\n",
        "X_encoded = pd.DataFrame(encoder.fit_transform(X[['Gender', 'Color', 'Style']]), columns=encoder.get_feature_names_out(['Gender', 'Color', 'Style']))\n",
        "X = pd.concat([X[['Height']], X_encoded], axis=1)\n",
        "\n",
        "# Split data into training and testing sets\n",
        "X_train, X_test, y_train, y_test = train_test_split(X, y, test_size=0.2, random_state=42)\n",
        "\n",
        "# Train a Decision Tree Classifier\n",
        "model = DecisionTreeClassifier()\n",
        "model.fit(X_train, y_train)\n",
        "\n",
        "# Function to suggest the best fashion item based on user inputs\n",
        "def suggest_fashion_item(height, gender, color, style):\n",
        "    # Prepare user input for prediction\n",
        "    user_data = pd.DataFrame({\n",
        "        'Height': [height],\n",
        "        'Gender': [gender],\n",
        "        'Color': [color],\n",
        "        'Style': [style]\n",
        "    })\n",
        "\n",
        "    # One-hot encode categorical features\n",
        "    user_encoded = pd.DataFrame(encoder.transform(user_data[['Gender', 'Color', 'Style']]), columns=encoder.get_feature_names_out(['Gender', 'Color', 'Style']))\n",
        "    user_data = pd.concat([user_data[['Height']], user_encoded], axis=1)\n",
        "\n",
        "    # Make prediction\n",
        "    predicted_item = model.predict(user_data)[0]\n",
        "\n",
        "    return predicted_item\n",
        "\n",
        "# Example usage\n",
        "height_input = float(input(\"Height (in cm): \"))\n",
        "gender_input = input(\"Gender (M/F): \")\n",
        "color_input = input(\"Color: \")\n",
        "style_input = input(\"Style (Casual/Formal/Sporty): \")\n",
        "\n",
        "predicted_item = suggest_fashion_item(height_input, gender_input, color_input, style_input)\n",
        "print(\"Suggested Fashion Item:\", predicted_item)\n"
      ],
      "metadata": {
        "colab": {
          "base_uri": "https://localhost:8080/"
        },
        "id": "IhkS8axcK-T9",
        "outputId": "ca1e2ae8-6932-4a3e-ec49-42c17a9d029a"
      },
      "execution_count": 24,
      "outputs": [
        {
          "output_type": "stream",
          "name": "stderr",
          "text": [
            "/usr/local/lib/python3.10/dist-packages/sklearn/preprocessing/_encoders.py:868: FutureWarning: `sparse` was renamed to `sparse_output` in version 1.2 and will be removed in 1.4. `sparse_output` is ignored unless you leave `sparse` to its default value.\n",
            "  warnings.warn(\n"
          ]
        },
        {
          "output_type": "stream",
          "name": "stdout",
          "text": [
            "Height (in cm): 200\n",
            "Gender (M/F): F\n",
            "Color: Pink\n",
            "Style (Casual/Formal/Sporty): Sporty\n",
            "Suggested Fashion Item: Sweater\n"
          ]
        }
      ]
    }
  ]
}